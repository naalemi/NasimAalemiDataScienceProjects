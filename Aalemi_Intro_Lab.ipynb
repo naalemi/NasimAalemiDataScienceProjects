{
 "cells": [
  {
   "cell_type": "markdown",
   "id": "a3ae03f4",
   "metadata": {
    "id": "a3ae03f4"
   },
   "source": [
    "# Lists"
   ]
  },
  {
   "cell_type": "markdown",
   "id": "1c281471",
   "metadata": {
    "id": "1c281471"
   },
   "source": [
    "Create a List of at least 4 items"
   ]
  },
  {
   "cell_type": "code",
   "execution_count": 68,
   "id": "cadb6f02",
   "metadata": {
    "id": "cadb6f02"
   },
   "outputs": [],
   "source": [
    "vigi_list = ['Broccoli','Potato', 'Turnip', 'Onion', 'Cauliflower']"
   ]
  },
  {
   "cell_type": "markdown",
   "id": "aee0f36a",
   "metadata": {
    "id": "aee0f36a"
   },
   "source": [
    "Add 3 new items to your list and remove 1 item from your original list"
   ]
  },
  {
   "cell_type": "code",
   "execution_count": 69,
   "id": "d835e070",
   "metadata": {
    "id": "d835e070"
   },
   "outputs": [
    {
     "name": "stdout",
     "output_type": "stream",
     "text": [
      "['Broccoli', 'Turnip', 'Onion', 'Cauliflower', 'Radish', 'Cabbage', 'Carrot']\n",
      "['Broccoli', 'Turnip', 'Cauliflower', 'Radish', 'Cabbage', 'Carrot']\n"
     ]
    }
   ],
   "source": [
    "additions = ['Radish', 'Cabbage','Carrot']\n",
    "vigi_list.extend(additions)\n",
    "print(vigi_list)\n",
    "vigi_list.remove(\"Onion\")\n",
    "print(vigi_list)"
   ]
  },
  {
   "cell_type": "markdown",
   "id": "1a1ba727",
   "metadata": {
    "id": "1a1ba727"
   },
   "source": [
    "Create a loop for your list"
   ]
  },
  {
   "cell_type": "code",
   "execution_count": 70,
   "id": "000cafbb",
   "metadata": {
    "id": "000cafbb"
   },
   "outputs": [
    {
     "name": "stdout",
     "output_type": "stream",
     "text": [
      "Broccoli\n",
      "Turnip\n",
      "Cauliflower\n",
      "Radish\n",
      "Cabbage\n",
      "Carrot\n"
     ]
    }
   ],
   "source": [
    "for items in vigi_list:\n",
    "    print(items)"
   ]
  },
  {
   "cell_type": "markdown",
   "id": "a924696c",
   "metadata": {
    "id": "a924696c"
   },
   "source": [
    "Make a copy of your list and then sort the values"
   ]
  },
  {
   "cell_type": "code",
   "execution_count": 71,
   "id": "3f103ab2",
   "metadata": {
    "id": "3f103ab2"
   },
   "outputs": [
    {
     "name": "stdout",
     "output_type": "stream",
     "text": [
      "['Broccoli', 'Turnip', 'Cauliflower', 'Radish', 'Cabbage', 'Carrot']\n",
      "['Broccoli', 'Cabbage', 'Carrot', 'Cauliflower', 'Radish', 'Turnip']\n"
     ]
    }
   ],
   "source": [
    "copy_vigi_list = vigi_list.copy()\n",
    "print(copy_vigi_list)\n",
    "vigi_list.sort()\n",
    "print(vigi_list)"
   ]
  },
  {
   "cell_type": "markdown",
   "id": "2fa697ba",
   "metadata": {
    "id": "2fa697ba"
   },
   "source": [
    "Add 2 of the same items from your list and then count the number of times that item occurs in your list"
   ]
  },
  {
   "cell_type": "code",
   "execution_count": 72,
   "id": "dc528a05",
   "metadata": {
    "id": "dc528a05"
   },
   "outputs": [],
   "source": [
    "vigi_list.append(\"Broccoli\")\n",
    "vigi_list.append(\"Cabbage\")"
   ]
  },
  {
   "cell_type": "code",
   "execution_count": 73,
   "id": "141a266a",
   "metadata": {},
   "outputs": [
    {
     "name": "stdout",
     "output_type": "stream",
     "text": [
      "['Broccoli', 'Cabbage', 'Carrot', 'Cauliflower', 'Radish', 'Turnip', 'Broccoli', 'Cabbage']\n"
     ]
    }
   ],
   "source": [
    "print(vigi_list)"
   ]
  },
  {
   "cell_type": "code",
   "execution_count": 75,
   "id": "c47c04d2",
   "metadata": {},
   "outputs": [
    {
     "name": "stdout",
     "output_type": "stream",
     "text": [
      "2\n",
      "2\n"
     ]
    }
   ],
   "source": [
    "print(vigi_list.count(\"Broccoli\"))\n",
    "print(vigi_list.count(\"Cabbage\"))"
   ]
  },
  {
   "cell_type": "markdown",
   "id": "330403b9",
   "metadata": {
    "id": "330403b9"
   },
   "source": [
    "Determine the final length of your list"
   ]
  },
  {
   "cell_type": "code",
   "execution_count": 76,
   "id": "273ce59c",
   "metadata": {
    "id": "273ce59c"
   },
   "outputs": [
    {
     "name": "stdout",
     "output_type": "stream",
     "text": [
      "8\n"
     ]
    }
   ],
   "source": [
    "print(len(vigi_list))"
   ]
  },
  {
   "cell_type": "markdown",
   "id": "7e3968e3",
   "metadata": {
    "id": "7e3968e3"
   },
   "source": [
    "# Tuples"
   ]
  },
  {
   "cell_type": "markdown",
   "id": "c7fa83bf",
   "metadata": {
    "id": "c7fa83bf"
   },
   "source": [
    "Create a tuple with at least 5 values"
   ]
  },
  {
   "cell_type": "code",
   "execution_count": 77,
   "id": "2286377e",
   "metadata": {
    "id": "2286377e"
   },
   "outputs": [],
   "source": [
    "new_tuple = (\"iphone\", \"laptop\", \"ipad\",\"ipod\",\"headphone\")"
   ]
  },
  {
   "cell_type": "markdown",
   "id": "32882557",
   "metadata": {
    "id": "32882557"
   },
   "source": [
    "Loop through your tuple"
   ]
  },
  {
   "cell_type": "code",
   "execution_count": 78,
   "id": "959aa311",
   "metadata": {
    "id": "959aa311"
   },
   "outputs": [
    {
     "name": "stdout",
     "output_type": "stream",
     "text": [
      "iphone\n",
      "laptop\n",
      "ipad\n",
      "ipod\n",
      "headphone\n"
     ]
    }
   ],
   "source": [
    "for items in new_tuple:\n",
    "    print(items)"
   ]
  },
  {
   "cell_type": "markdown",
   "id": "77ae9b41",
   "metadata": {
    "id": "77ae9b41"
   },
   "source": [
    "Create a program to determine whether or not the item exists in your tuple. If the item does not exist, the output should return the message, \"item is not found, please try again\""
   ]
  },
  {
   "cell_type": "code",
   "execution_count": 82,
   "id": "64751d53",
   "metadata": {
    "id": "64751d53"
   },
   "outputs": [
    {
     "name": "stdout",
     "output_type": "stream",
     "text": [
      "mouse is in not found, please try again\n"
     ]
    }
   ],
   "source": [
    "items_in_tuple = \"mouse\"\n",
    "if not items_in_tuple in new_tuple:\n",
    "    print(items_in_tuple, \"is in not found, please try again\")"
   ]
  },
  {
   "cell_type": "markdown",
   "id": "75c91a88",
   "metadata": {
    "id": "75c91a88"
   },
   "source": [
    "Return the 3rd value in your tuple"
   ]
  },
  {
   "cell_type": "code",
   "execution_count": 88,
   "id": "638bcdd7",
   "metadata": {
    "id": "638bcdd7"
   },
   "outputs": [
    {
     "name": "stdout",
     "output_type": "stream",
     "text": [
      "ipod\n"
     ]
    }
   ],
   "source": [
    "print(new_tuple[3])"
   ]
  },
  {
   "cell_type": "markdown",
   "id": "477378f2",
   "metadata": {
    "id": "477378f2"
   },
   "source": [
    "# Sets"
   ]
  },
  {
   "cell_type": "markdown",
   "id": "8039e26c",
   "metadata": {
    "id": "8039e26c"
   },
   "source": [
    "Create a set that contains 5 values and then confirm that your set has 5 items (hint length method)"
   ]
  },
  {
   "cell_type": "code",
   "execution_count": 91,
   "id": "42cc88f8",
   "metadata": {
    "id": "42cc88f8"
   },
   "outputs": [
    {
     "name": "stdout",
     "output_type": "stream",
     "text": [
      "5\n"
     ]
    }
   ],
   "source": [
    "first_set = {\"tree\", \"river\", \"waterfall\", \"ocean\", \"mountain\"}\n",
    "print(len(first_set))"
   ]
  },
  {
   "cell_type": "markdown",
   "id": "95ec821f",
   "metadata": {
    "id": "95ec821f"
   },
   "source": [
    "Add 2 more values to your set"
   ]
  },
  {
   "cell_type": "code",
   "execution_count": 94,
   "id": "425576b5",
   "metadata": {
    "id": "425576b5"
   },
   "outputs": [
    {
     "name": "stdout",
     "output_type": "stream",
     "text": [
      "{'jungle', 'tree', 'desert', 'mountain', 'ocean', 'waterfall', 'river'}\n"
     ]
    }
   ],
   "source": [
    "first_set.update([\"desert\", \"jungle\"])\n",
    "print(first_set)"
   ]
  },
  {
   "cell_type": "markdown",
   "id": "690d9b20",
   "metadata": {
    "id": "690d9b20"
   },
   "source": [
    "Using the pop method, remove 1 value from your set"
   ]
  },
  {
   "cell_type": "code",
   "execution_count": 96,
   "id": "b8c8690d",
   "metadata": {
    "id": "b8c8690d"
   },
   "outputs": [
    {
     "name": "stdout",
     "output_type": "stream",
     "text": [
      "{'tree', 'desert', 'mountain', 'ocean', 'waterfall', 'river'}\n"
     ]
    }
   ],
   "source": [
    "first_set.pop()\n",
    "print(first_set)"
   ]
  },
  {
   "cell_type": "markdown",
   "id": "c6df5885",
   "metadata": {
    "id": "c6df5885"
   },
   "source": [
    "I have created a set that details all of the places that I want to visit in my life called \"bucketSet\". I have also created a set that lists the places that I have visited, \"travelSet\". Create an output that lists the locations that I still would like to visit."
   ]
  },
  {
   "cell_type": "code",
   "execution_count": 97,
   "id": "5f5adc9c",
   "metadata": {
    "id": "5f5adc9c"
   },
   "outputs": [],
   "source": [
    "bucketSet = {\"Hawaii\", \"Jamaica\", \"Germany\", \"Ireland\", \"Scotland\", \"Alaska\", \"St Thomas\", \"Australia\"}\n",
    "travelSet = {\"Maryland\",\"Hawaii\", \"Germany\", \"Jamaica\", \"Florida\", \"California\", \"Georgia\", \"Nevada\"}"
   ]
  },
  {
   "cell_type": "code",
   "execution_count": 98,
   "id": "8aefad28",
   "metadata": {
    "id": "8aefad28"
   },
   "outputs": [
    {
     "name": "stdout",
     "output_type": "stream",
     "text": [
      "{'Australia', 'St Thomas', 'Ireland', 'Scotland', 'Alaska'}\n"
     ]
    }
   ],
   "source": [
    "locations_to_visit = bucketSet.difference(travelSet)\n",
    "print(locations_to_visit)"
   ]
  },
  {
   "cell_type": "markdown",
   "id": "18628210",
   "metadata": {
    "id": "18628210"
   },
   "source": [
    "# Dictionaries"
   ]
  },
  {
   "cell_type": "markdown",
   "id": "2c38e056",
   "metadata": {
    "id": "2c38e056"
   },
   "source": [
    "You are teaching a class with 6 students and need to assign a final grade for each student for the semester. Create a program that captures their first name, last name, semester year and final grade."
   ]
  },
  {
   "cell_type": "code",
   "execution_count": 38,
   "id": "7593da96",
   "metadata": {},
   "outputs": [
    {
     "name": "stdout",
     "output_type": "stream",
     "text": [
      "First Name: John\n",
      "Last Name: Cena\n",
      "Semester Year: 2023\n",
      "Final Grade: 90\n",
      "First Name: Bob\n",
      "Last Name: Marly\n",
      "Semester Year: 2021\n",
      "Final Grade: 91\n",
      "First Name: Mike\n",
      "Last Name: Chris\n",
      "Semester Year: 2020\n",
      "Final Grade: 83\n",
      "First Name: Frank\n",
      "Last Name: Bell\n",
      "Semester Year: 2019\n",
      "Final Grade: 92\n",
      "First Name: James\n",
      "Last Name: Snow\n",
      "Semester Year: 2018\n",
      "Final Grade: 72\n",
      "First Name: Daniel\n",
      "Last Name: Nestli\n",
      "Semester Year: 2013\n",
      "Final Grade: 85\n",
      "Student 1: {'First_Name': 'John', 'Last_Name': 'Cena', 'Semester_Year': 2023, 'Final_Grade': 90}\n",
      "Student 2: {'First_Name': 'Bob', 'Last_Name': 'Marly', 'Semester_Year': 2021, 'Final_Grade': 91}\n",
      "Student 3: {'First_Name': 'Mike', 'Last_Name': 'Chris', 'Semester_Year': 2020, 'Final_Grade': 83}\n",
      "Student 4: {'First_Name': 'Frank', 'Last_Name': 'Bell', 'Semester_Year': 2019, 'Final_Grade': 92}\n",
      "Student 5: {'First_Name': 'James', 'Last_Name': 'Snow', 'Semester_Year': 2018, 'Final_Grade': 72}\n",
      "Student 6: {'First_Name': 'Daniel', 'Last_Name': 'Nestli', 'Semester_Year': 2013, 'Final_Grade': 85}\n"
     ]
    }
   ],
   "source": [
    "students = []\n",
    "\n",
    "for i in range(6):\n",
    "    fname = input(\"First Name: \")\n",
    "    lname = input(\"Last Name: \")\n",
    "    SemesterYear = int(input(\"Semester Year: \"))\n",
    "    fGrade = round(float(input(\"Final Grade: \")))\n",
    "    \n",
    "    student = {\n",
    "        'First_Name': fname,\n",
    "        'Last_Name': lname,\n",
    "        'Semester_Year': SemesterYear,\n",
    "        'Final_Grade': fGrade\n",
    "    }\n",
    "    \n",
    "    students.append(student)\n",
    "\n",
    "for i, student in enumerate(students, 1):\n",
    "    print(f\"Student {i}: {student}\")\n"
   ]
  },
  {
   "cell_type": "markdown",
   "id": "4cf054e6",
   "metadata": {
    "id": "4cf054e6"
   },
   "source": [
    "Create a loop that provides an output of students last name and final grade"
   ]
  },
  {
   "cell_type": "code",
   "execution_count": 41,
   "id": "8fb7e6ed",
   "metadata": {},
   "outputs": [
    {
     "name": "stdout",
     "output_type": "stream",
     "text": [
      "last_name: Cena, final_grade: 90\n",
      "last_name: Marly, final_grade: 91\n",
      "last_name: Chris, final_grade: 83\n",
      "last_name: Bell, final_grade: 92\n",
      "last_name: Snow, final_grade: 72\n",
      "last_name: Nestli, final_grade: 85\n"
     ]
    }
   ],
   "source": [
    "for i in students:\n",
    "    print(f\"last_name: {i['Last_Name']}, final_grade: {i['Final_Grade']}\")\n"
   ]
  },
  {
   "cell_type": "markdown",
   "id": "5e172304",
   "metadata": {
    "id": "5e172304"
   },
   "source": [
    "Challenge Question: Create a program that returns a message for each student that received a final grade of A that says, \"Congratulations (Persons first name), you have received a final grade of A and have made the honor roll\""
   ]
  },
  {
   "cell_type": "code",
   "execution_count": 46,
   "id": "b71da86b",
   "metadata": {
    "id": "b71da86b"
   },
   "outputs": [
    {
     "name": "stdout",
     "output_type": "stream",
     "text": [
      "Congratulations John you have received a final grade of A and have made the honor roll.\n",
      "Congratulations Bob you have received a final grade of A and have made the honor roll.\n",
      "Congratulations Frank you have received a final grade of A and have made the honor roll.\n"
     ]
    }
   ],
   "source": [
    "key1 = 'First_Name'\n",
    "key2 = 'Final_Grade'\n",
    "\n",
    "for value in students:\n",
    "    if value[key2] >= 90:\n",
    "        print(\"Congratulations\", str(value[key1]), \"you have received a final grade of A and have made the honor roll.\")"
   ]
  }
 ],
 "metadata": {
  "colab": {
   "provenance": []
  },
  "kernelspec": {
   "display_name": "Python 3 (ipykernel)",
   "language": "python",
   "name": "python3"
  },
  "language_info": {
   "codemirror_mode": {
    "name": "ipython",
    "version": 3
   },
   "file_extension": ".py",
   "mimetype": "text/x-python",
   "name": "python",
   "nbconvert_exporter": "python",
   "pygments_lexer": "ipython3",
   "version": "3.9.13"
  }
 },
 "nbformat": 4,
 "nbformat_minor": 5
}
